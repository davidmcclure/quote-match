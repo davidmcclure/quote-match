{
 "cells": [
  {
   "cell_type": "code",
   "execution_count": 1,
   "metadata": {
    "collapsed": false
   },
   "outputs": [],
   "source": [
    "import re\n",
    "from wordfreq import top_n_list\n",
    "\n",
    "stopwords = top_n_list('en', 500)\n",
    "\n",
    "def tokenize(text: str):\n",
    "    for token in re.findall('[a-z]+', text.lower()):\n",
    "        if token not in stopwords:\n",
    "            yield token"
   ]
  },
  {
   "cell_type": "code",
   "execution_count": 2,
   "metadata": {
    "collapsed": true
   },
   "outputs": [],
   "source": [
    "with open('data/pg284.txt') as fh:\n",
    "    house_of_mirth = fh.read()\n",
    "    \n",
    "with open('data/pg2891.txt') as fh:\n",
    "    howards_end = fh.read()"
   ]
  },
  {
   "cell_type": "code",
   "execution_count": 3,
   "metadata": {
    "collapsed": false
   },
   "outputs": [],
   "source": [
    "from difflib import SequenceMatcher\n",
    "\n",
    "def print_matches(subject, query):\n",
    "    \n",
    "    s_tokens = list(tokenize(subject))\n",
    "    q_tokens = list(tokenize(query))\n",
    "    \n",
    "    matcher = SequenceMatcher(a=s_tokens, b=q_tokens)\n",
    "    \n",
    "    for m in matcher.get_matching_blocks():\n",
    "        print(m, s_tokens[m.a:m.a+m.size])"
   ]
  },
  {
   "cell_type": "code",
   "execution_count": 4,
   "metadata": {
    "collapsed": false,
    "scrolled": false
   },
   "outputs": [
    {
     "name": "stdout",
     "output_type": "stream",
     "text": [
      "Match(a=0, b=0, size=2) ['project', 'gutenberg']\n",
      "Match(a=14, b=47, size=2) ['project', 'gutenberg']\n",
      "Match(a=17, b=51, size=1) ['included']\n",
      "Match(a=20, b=372, size=3) ['www', 'gutenberg', 'net']\n",
      "Match(a=36, b=465, size=2) ['project', 'gutenberg']\n",
      "Match(a=43, b=884, size=1) ['chapter']\n",
      "Match(a=45, b=2596, size=1) ['paused']\n",
      "Match(a=46, b=3226, size=1) ['surprise']\n",
      "Match(a=47, b=4366, size=1) ['afternoon']\n",
      "Match(a=52, b=4832, size=1) ['eyes']\n",
      "Match(a=55, b=4842, size=1) ['miss']\n",
      "Match(a=61, b=8870, size=1) ['hurried']\n",
      "Match(a=63, b=8887, size=1) ['miss']\n",
      "Match(a=161, b=8900, size=1) ['eleven']\n",
      "Match(a=217, b=8901, size=2) ['o', 'clock']\n",
      "Match(a=219, b=8910, size=1) ['aunt']\n",
      "Match(a=220, b=9491, size=1) ['closed']\n",
      "Match(a=221, b=10500, size=1) ['don']\n",
      "Match(a=222, b=10960, size=1) ['soul']\n",
      "Match(a=225, b=13033, size=1) ['station']\n",
      "Match(a=265, b=13082, size=2) ['difference', 're']\n",
      "Match(a=270, b=13087, size=1) ['tea']\n",
      "Match(a=284, b=13328, size=1) ['miss']\n",
      "Match(a=333, b=13409, size=1) ['walk']\n",
      "Match(a=339, b=13432, size=1) ['began']\n",
      "Match(a=342, b=13450, size=1) ['moved']\n",
      "Match(a=379, b=13472, size=1) ['chiefly']\n",
      "Match(a=455, b=13538, size=2) ['don', 've']\n",
      "Match(a=457, b=13649, size=1) ['looked']\n",
      "Match(a=458, b=14480, size=1) ['across']\n",
      "Match(a=460, b=16068, size=1) ['marble']\n",
      "Match(a=469, b=16720, size=1) ['yours']\n",
      "Match(a=472, b=17456, size=1) ['suggested']\n",
      "Match(a=474, b=18179, size=1) ['tea']\n",
      "Match(a=475, b=19511, size=1) ['won']\n",
      "Match(a=484, b=19726, size=1) ['ll']\n",
      "Match(a=515, b=19916, size=1) ['noticed']\n",
      "Match(a=599, b=19986, size=1) ['queer']\n",
      "Match(a=611, b=20042, size=38) ['laughed', 'knelt', 'table', 'lamp', 'kettle', 'measured', 'tea', 'tea', 'pot', 'green', 'glaze', 'watched', 'polished', 'ivory', 'slender', 'pink', 'nails', 'sapphire', 'bracelet', 'slipping', 'wrist', 'struck', 'irony', 'suggesting', 'cousin', 'gertrude', 'farish', 'chosen', 'evidently', 'victim', 'civilization', 'produced', 'links', 'bracelet', 'seemed', 'manacles', 'chaining', 'fate']\n",
      "Match(a=649, b=21203, size=1) ['seemed']\n",
      "Match(a=654, b=21822, size=1) ['forgot']\n",
      "Match(a=655, b=22552, size=1) ['cousin']\n",
      "Match(a=656, b=24052, size=1) ['re']\n",
      "Match(a=660, b=24461, size=1) ['manage']\n",
      "Match(a=680, b=24563, size=1) ['don']\n",
      "Match(a=682, b=24631, size=1) ['mrs']\n",
      "Match(a=686, b=24651, size=1) ['don']\n",
      "Match(a=687, b=24685, size=1) ['perhaps']\n",
      "Match(a=701, b=24695, size=1) ['thin']\n",
      "Match(a=713, b=24846, size=1) ['don']\n",
      "Match(a=719, b=24848, size=1) ['don']\n",
      "Match(a=740, b=25050, size=1) ['waste']\n",
      "Match(a=745, b=25075, size=1) ['conversation']\n",
      "Match(a=752, b=25113, size=2) ['perhaps', 'don']\n",
      "Match(a=754, b=25528, size=1) ['marry']\n",
      "Match(a=755, b=32469, size=2) ['perhaps', 'don']\n",
      "Match(a=757, b=32513, size=1) ['regard']\n",
      "Match(a=758, b=33937, size=1) ['strong']\n",
      "Match(a=760, b=34005, size=1) ['felt']\n",
      "Match(a=764, b=34122, size=1) ['ventured']\n",
      "Match(a=767, b=34275, size=1) ['dear']\n",
      "Match(a=768, b=34381, size=1) ['mr']\n",
      "Match(a=770, b=34639, size=1) ['wasn']\n",
      "Match(a=778, b=35105, size=1) ['air']\n",
      "Match(a=786, b=35115, size=26) ['don', 'continued', 'pleasant', 'won', 'afraid', 'disagreeable', 'ones', 'fancied', 'don', 'except', 'neither', 'prig', 'nor', 'bounder', 'shouldn', 'pretend', 'guard', 'voice', 'dropped', 'note', 'seriousness', 'sat', 'gazing', 'troubled', 'gravity', 'child']\n",
      "Match(a=812, b=35214, size=1) ['don']\n",
      "Match(a=826, b=35302, size=1) ['don']\n",
      "Match(a=832, b=35312, size=1) ['ought']\n",
      "Match(a=846, b=35318, size=1) ['don']\n",
      "Match(a=847, b=35481, size=1) ['coloured']\n",
      "Match(a=917, b=35539, size=1) ['holding']\n",
      "Match(a=968, b=35571, size=1) ['don']\n",
      "Match(a=1322, b=35577, size=2) ['beg', 'pardon']\n",
      "Match(a=1334, b=35624, size=1) ['continued']\n",
      "Match(a=1382, b=35647, size=1) ['among']\n",
      "Match(a=1928, b=35648, size=1) ['giving']\n",
      "Match(a=2387, b=35659, size=1) ['nephew']\n",
      "Match(a=4081, b=35662, size=2) ['rose', 'feet']\n",
      "Match(a=4104, b=35675, size=1) ['mrs']\n",
      "Match(a=4121, b=35678, size=1) ['don']\n",
      "Match(a=4130, b=35700, size=1) ['mrs']\n",
      "Match(a=4139, b=35713, size=1) ['dying']\n",
      "Match(a=4199, b=35721, size=1) ['mrs']\n",
      "Match(a=4399, b=35728, size=1) ['husband']\n",
      "Match(a=22718, b=35729, size=2) ['laid', 'hands']\n",
      "Match(a=22722, b=35771, size=1) ['smile']\n",
      "Match(a=22884, b=35787, size=1) ['ve']\n",
      "Match(a=23762, b=35788, size=1) ['ll']\n",
      "Match(a=45199, b=35792, size=2) ['project', 'gutenberg']\n",
      "Match(a=46569, b=35797, size=0) []\n",
      "CPU times: user 1.81 s, sys: 12.9 ms, total: 1.82 s\n",
      "Wall time: 1.82 s\n"
     ]
    }
   ],
   "source": [
    "%time print_matches(house_of_mirth, howards_end)"
   ]
  },
  {
   "cell_type": "code",
   "execution_count": null,
   "metadata": {
    "collapsed": true
   },
   "outputs": [],
   "source": []
  }
 ],
 "metadata": {
  "kernelspec": {
   "display_name": "Python 3",
   "language": "python",
   "name": "python3"
  },
  "language_info": {
   "codemirror_mode": {
    "name": "ipython",
    "version": 3
   },
   "file_extension": ".py",
   "mimetype": "text/x-python",
   "name": "python",
   "nbconvert_exporter": "python",
   "pygments_lexer": "ipython3",
   "version": "3.5.2"
  }
 },
 "nbformat": 4,
 "nbformat_minor": 1
}
