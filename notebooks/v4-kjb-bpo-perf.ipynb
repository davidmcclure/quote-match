{
 "cells": [
  {
   "cell_type": "code",
   "execution_count": 1,
   "metadata": {
    "collapsed": false
   },
   "outputs": [],
   "source": [
    "from match.text import Text"
   ]
  },
  {
   "cell_type": "code",
   "execution_count": 2,
   "metadata": {
    "collapsed": true
   },
   "outputs": [],
   "source": [
    "kjb = Text.from_file('../data/pg10.txt')"
   ]
  },
  {
   "cell_type": "code",
   "execution_count": 9,
   "metadata": {
    "collapsed": true
   },
   "outputs": [],
   "source": [
    "bpo = Text('''\n",
    "Papers, (Or&apos;gimil allb &apos;filter. WESTMINSTER F&apos;ATIIERS&apos;\n",
    "31EETINGS. IN no part of that city of social contrasts, London, arc those\n",
    "excellent offshoots of Ragged Schools, Mothers&apos; Meetings, more prosperous\n",
    "than in mid- Westminster. As the friends labouring, there were among the first\n",
    "to open free schools for the children of outcasts, under the title of\n",
    "&quot;Schools for the Destitute,&quot; so they were among the pioneers of our\n",
    "Mothers&apos; Meetings. These in the aggregate now number 71, with no less than\n",
    "3,000 regular attendants. As respects Westminster alone, under the verv shadow\n",
    "of the venerable uabbey, such meetings are held in five Ragged Schools with an\n",
    "attendance of upwards of 400 poor women. As we have visited all these meetings,\n",
    "we can testify to their value, social and spiritual, many facts proving that\n",
    "hearts once callous through sin and misery, have, through the power of the\n",
    "Spirit, been softened by the story of the Cross. But we have on so many\n",
    "occasions referred to Mothers&apos; Meetings at large, that we now propose to\n",
    "restrict ourselves to the notice of kindred gatherings which have received far\n",
    "less attention than they deserve-we allude to FATHERS&apos; MEETINGS. Of these\n",
    "there are two in Westminster; they are attached to Queen Square and Perkins\n",
    "Rents Ragged Schools. They are both of some standing; and, though they differ in\n",
    "details, they are both equally well managed, and therefore equally successful.\n",
    "The oldest, that held in QUFEN SQUARE, was established as far back as the year\n",
    "18f53. It was commenced in the first Ragged School opened in WVestmiiister, an\n",
    "old stable in Ncw Pyc Street hlaving been adapted for school purposes. The\n",
    "Fathers&apos; Mfeeting was instituted, under the auspices of Mr. Robert Baxter,\n",
    "who kindly defrayed all the expenses, by Mr. Allen, a most earnest Scripture\n",
    "reader, whose namc is still fragrant in the alleys and dens of the Devil&apos;s\n",
    "Acre. The place was soon found to be far too small for the numbers in weekly\n",
    "attendance; on more than one occasion, indeed, we found above 200 men present,\n",
    "all of the lowest type socially and morally. Hence in 1l8.;5, in resp)ownse 1)\n",
    "to a modern cry of &quot; Rehoboth,&quot; Mr. Baxter granted the use of a\n",
    "Mission HlIl in Queen Square, rent free, and has continued this benefit up to\n",
    "the present time. The object of this meeting, though primarily religious, is\n",
    "also temporal ; for the managers have not forgotten that men have bodies as well\n",
    "as souls. In this, indeed, they only imitate their Divine Master, who, if he\n",
    "preached the Gospel in a way no one has over preached it, did not forget to feed\n",
    "the hungry and to heal the sick. IBy this wise combination of the secular with\n",
    "the religious, these mectings were a success from the very outset. Nothing can\n",
    "b)e Worse than to kee) men in &quot; leading strings ;&quot; and many a plan for\n",
    "the social reclamation of the poor has failed simply because all was (lone for\n",
    "them, instead of teaching the duty of self-help and self-managemnent. This,\n",
    "happily, is not the case with Queen Square Fathers&apos; Meetings, for most\n",
    "wisely they were from the very outset permitted to manage their own affairs, the\n",
    "wealthier promoters only giving sympathy or advice. The committee is therefore\n",
    "selected hy the members; and, on the whole, the selection has been most\n",
    "judicious, steady workers rather than mere talkers carrying off most votes.\n",
    "Since the commencement of this and the Mothers&apos; Club, about 1,600 of both\n",
    "sexes bave been aided in sickness; and above 200 have had their funeral expenses\n",
    "defrayed. The abler members visit and pray with their sick fellow--members, and\n",
    "convey to them the sick allowance. As every claim is settled at the close of the\n",
    "year, the Society is simply a yearly one, and helnce no futuro liability is\n",
    "entailed. Thle fathers meet every Wednesday evening at eight o&apos;clock p.1.,\n",
    "to transact the necessary business. At every meeting the word of God is read,\n",
    "and suitable addresses are given. The followving are some of the rules which\n",
    "were adopted at a general meeting of the members in November, 1871 ; which, as\n",
    "the result of above twenty years&apos; experience, we give as a guide to any of\n",
    "our friends who may be led to establish similar meetings:&quot;Any person\n",
    "wishing to become a member, must pay 2d. per week towards the sick, Is. Gd.\n",
    "entrance fee on entering, and 2d. for rules and card. No member will be free\n",
    "until he has paid his contributions, viz., 1s. 6d. entrance, 2d. per week from\n",
    "the commencement of the year, and 1s. each death. This society shall be governed\n",
    "by a committee of twelve members, whose duty vill be to meet every Wednesday\n",
    "evening at a quarter before 8 o&apos;clock, to admit new members, and to receive\n",
    "applications from the sick, and also to report the state of the sick during the\n",
    "past week, and take their weekly allowanec of sick pay. The contributions shall\n",
    "bc paid regularly every WVednesday evening, fromt 7 till 9 ; any member\n",
    "neglecting to do so, and by falling sick, as a de(mlenter lie shall wait as many\n",
    "weeks as lie is a defaulter, beore lhe canl declare on the futnds alter his\n",
    "payments are made. Any member falling sick shall give notice in writing to the\n",
    "secretary, together with a doctor&apos;s cect ificate, and if eligible sliall\n",
    "receive the allowance on thlat day week, viz.: Ss. per week for four weeks, and\n",
    "4s. per week. for eight weeks (luring the year, it&apos; required ; the mioney\n",
    "to be paid by one of&apos; the committee, wlho shall, take a receipt for the\n",
    "same. Such payment to commence from the day of receiving the doctor&apos;s\n",
    "certificate, the coImmittee beinig satisfied such illness is genuine, and not\n",
    "brought on b)v drunkenniiess or vice. That every sick miember slhall keep a slip\n",
    "of paper on whlicll the visiting committee shall write their names and date of\n",
    "each visit. No sick member to be from homel after (; o&apos;clock p.m. fronm the\n",
    "&apos;21st September to the 25thi Mareh, or after 9 o&apos;clock p.n. froin the\n",
    "25thl March to the 21st September, or his iiamie Will he evase&apos;d. Tihat 11\n",
    "personi can be admitted under eighteen or above fifty years of&apos; age,\n",
    "subject to the discretion of the committee, or livinig more thlan two miles from\n",
    "the place of meeting. The comnmittee shall select onc of thleir number to act as\n",
    "secretary folr the time being, whose duty it shall be to make all entries in\n",
    "thle b)ookR. Tle name and a(ldress and nlumber of every member, to be entered in\n",
    "a book at the commencement of every year. Any member leaving the town or the\n",
    "district, must give notice to the secretary, and one week&apos;s notice must be\n",
    "given to the secretary before he call receive the amount due to him on his card,\n",
    "and any member so removing, but still wishing to remain in the society, may do\n",
    "so, but should lie fall sick, any expense incurred in paying the sick money\n",
    "shall be paid by the sick member. At the death of a free member, the wife or\n",
    "relatives of the said member shall receive the advantage of ?8; that is to say,\n",
    "the cominitteo shall see thatt a respectable funeral shall be, gi&apos;en, and\n",
    "after the cxp)cnses are 1)aid, the wifo or relatives shall receive the remainder\n",
    "of the ?8. Any one can have his owvn undertaker, and the undertaker&apos;s bill\n",
    "will be paid on the following Wednesday, after being presented to the committee.\n",
    "\n",
    "3:17 And unto Adam he said, Because thou hast hearkened unto the voice\n",
    "of thy wife, and hast eaten of the tree, of which I commanded thee,\n",
    "saying, Thou shalt not eat of it: cursed is the ground for thy sake;\n",
    "in sorrow shalt thou eat of it all the days of thy life; 3:18 Thorns\n",
    "also and thistles shall it bring forth to thee; and thou shalt eat the\n",
    "herb of the field; 3:19 In the sweat of thy face shalt thou eat bread,\n",
    "till thou return unto the ground; for out of it wast thou taken: for\n",
    "dust thou art, and unto dust shalt thou return.\n",
    "\n",
    "All notices to be directed to the secretary, within. two days of the death of a\n",
    "member, marked outside &quot; Notice of D)eath.&quot; All members shall pay a\n",
    "contribution of Is. at the death of a member, for which three weeks will be\n",
    "allowed to pay it in from the date of the notice being given. Any member\n",
    "neglecting any of these rules, or coming to the meeting intoxicated, or using\n",
    "obscene language when at the meeting, shall be subject to a fine of 3d. for each\n",
    "offence.&quot; The next meeting of male adults to which we propose to refer is\n",
    "equally valuable both socially and religiously. It is known as the\n",
    "&apos;Westminster &apos;Working Men&apos;s Club and Reading Rooms, and is held\n",
    "in connection with the One Tun Ragged School in Old Pye Street. It is open every\n",
    "evening, Sundavs included, from 6 till half-past 10-on Sundays till 10, and oln\n",
    "Saturdays till a quarter to 12; subscription one halfpeinny ler week. Founded in\n",
    "1860 by Miss Adeline Cooper, the building was enlarged in 1861, and again in\n",
    "1863, and this club was remnoved to commodious premises, which were erected for\n",
    "the l)llrpose, in 18(;6. In addition to a large, cheerful reading room, the\n",
    "following social operations are carried on most successfully:-A Penlny Banik,\n",
    "open three times a week either for payments or withdrawals. Deposits during the\n",
    "year, ?42) 22s. 11(d.; withdrawn, ?32) 11s. 6d. A Labonr Loan Society, enrolled\n",
    "according to Act of Parliament, meets every &apos;Wednesday evening from 8 to\n",
    "10. There are fiftyone Jflml)ers. Amount of capital standing to members&apos;\n",
    "accounts, ?190 16s. 101d. ; amount of paid-up shares withdrawn by members, ?197\n",
    "s16. lI0d.; loans granted at ; per cent., ?214 5s.; interest added to\n",
    "members&apos; stock, 10 poer cent. ; in treasurer&apos;s bands ?47. A\n",
    "Tempnerar&apos;e Commwittec meet every &apos;Monday evening. The Public\n",
    "Temnperance meetings are held on alternate Tuesdays. One hundred alnd eighty-two\n",
    "pledges have been taken during the year. A Barrowt Cltb is conducted onl Monday\n",
    "evening. A barrowv, price 55s., is supplied to a member, who pays Is. a week for\n",
    "the use of it, and at the end of fifty-five weeks it becomes his own property.\n",
    "Seven barrows were supplied last year-making eighty-two barrows supplied to\n",
    "members since the formation of the Society in 18632. A Burial Society (numbers,\n",
    "thirty-three) meets every 3Monday evening. Voluntary subscriptions Wd. a week.\n",
    "This small weekly payment entitles the relatives of a deceased member to the sum\n",
    "of ?4 towards the funeral expenses, and is intended to discourage &quot;friendly\n",
    "meetings,&quot; which, being held at public-houses, generally lead to excesses\n",
    "of various kinds. ?12 were paid by this little Burial Society-?4 to the\n",
    "relatives of each deceased member. In connection with this society, we regret to\n",
    "record the death of a young member, &quot;the only son of his mother, who is a\n",
    "widow.&quot; During his illness his great desire was to have the Scriptures read\n",
    "to him. His last intelligible words were, &quot;1 Kiss me, mother-I am\n",
    "going-Jesus is waiting for me.&quot; A Lending Library numbers nearly 431\n",
    "volumes. 207 books have been lent out during the year. The charge of one penny\n",
    "entitles a member to keep a book a fortnight-this money is expended in repairs,\n",
    "and also in new books. The Clab Library numbers over 1,200 volumes for the sole\n",
    "use of members of the Club. Nor are the spiritual needs of the members\n",
    "forgotten. Thus, a Bible Class, conducted by General Alexander, is much enjoyed\n",
    "by those who attend. It is free to all, and a side door is op)cn from a quarter\n",
    "before eight to ten minutes past. The attendance averages from thirty to forty.\n",
    "A Sunday ELrening ,Serriee andl Mid-day WVedne8(lay Prayer Meeting are also\n",
    "attended by most attentive audiences. As we have watched these Fathers&apos;\n",
    "Meetings from the outst, we gladly testify that, next to those Ragged Schools of\n",
    "which they were offshoots, nothing has done more to civilise a miserable\n",
    "district long known by the terrible name of the &quot; Devil&apos;s Acre.&quot;\n",
    "Latterly this locality has much improved, for Victoria Street and the\n",
    "MNetropolitan Railway, which run through the very heart of this district, by\n",
    "pulling down many alleys have driven away those burglars and coiners by which it\n",
    "was tenanted. Still, if less criminal, there is yet a large poor or vicious\n",
    "population-the &quot;d Lodging Houses for Travellers,&quot; in Old Pye Street,\n",
    "contributing more than their quota to the sin and misery which are still born\n",
    "and bred there. It is for classes like these-or rather for that portion which\n",
    "earnestly desires to quit this &quot; Slough of l)espond&quot;-that the Queen\n",
    "Square fllld One Tun Men&apos;s Meetings were devised. That their past\n",
    "usefulness may be but as a foreshadow of their future success, is our earnest\n",
    "prayer. Nor can we doubt that, with the common sense shown in the various\n",
    "plalnls employed, and the blessing, of the Most Itigh on the combined efforts,\n",
    "that they will long continue a course which, for prc.c)dt alnd permatiexit\n",
    "restilts, has had few palrallels.\n",
    "''')"
   ]
  },
  {
   "cell_type": "code",
   "execution_count": 10,
   "metadata": {
    "collapsed": false,
    "scrolled": true
   },
   "outputs": [
    {
     "name": "stdout",
     "output_type": "stream",
     "text": [
      "332995\n",
      "1187\n"
     ]
    }
   ],
   "source": [
    "kjb_tokens = kjb.token_sequence()\n",
    "bpo_tokens = bpo.token_sequence()\n",
    "\n",
    "print(len(kjb_tokens))\n",
    "print(len(bpo_tokens))"
   ]
  },
  {
   "cell_type": "code",
   "execution_count": 11,
   "metadata": {
    "collapsed": false
   },
   "outputs": [
    {
     "name": "stdout",
     "output_type": "stream",
     "text": [
      "[Match(a=811, b=668, size=62)]\n",
      "CPU times: user 1.37 s, sys: 5.21 ms, total: 1.38 s\n",
      "Wall time: 1.38 s\n"
     ]
    }
   ],
   "source": [
    "%time print(list(kjb.match(bpo)))"
   ]
  },
  {
   "cell_type": "code",
   "execution_count": null,
   "metadata": {
    "collapsed": true
   },
   "outputs": [],
   "source": []
  }
 ],
 "metadata": {
  "kernelspec": {
   "display_name": "Python 3",
   "language": "python",
   "name": "python3"
  },
  "language_info": {
   "codemirror_mode": {
    "name": "ipython",
    "version": 3
   },
   "file_extension": ".py",
   "mimetype": "text/x-python",
   "name": "python",
   "nbconvert_exporter": "python",
   "pygments_lexer": "ipython3",
   "version": "3.5.2"
  }
 },
 "nbformat": 4,
 "nbformat_minor": 1
}
