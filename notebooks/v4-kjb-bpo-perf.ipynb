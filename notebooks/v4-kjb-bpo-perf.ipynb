{
 "cells": [
  {
   "cell_type": "code",
   "execution_count": 1,
   "metadata": {
    "collapsed": true
   },
   "outputs": [],
   "source": [
    "from match.text import Text"
   ]
  },
  {
   "cell_type": "code",
   "execution_count": 2,
   "metadata": {
    "collapsed": true
   },
   "outputs": [],
   "source": [
    "kjb = Text.from_file('../data/pg10.txt')"
   ]
  },
  {
   "cell_type": "code",
   "execution_count": 3,
   "metadata": {
    "collapsed": true
   },
   "outputs": [],
   "source": [
    "bpo = Text('''\n",
    "Papers, (Or&apos;gimil allb &apos;filter. WESTMINSTER F&apos;ATIIERS&apos; 31EETINGS. IN no part of that city of social contrasts, London, arc those excellent offshoots of Ragged Schools, Mothers&apos; Meetings, more prosperous than in mid- Westminster. As the friends labouring, there were among the first to open free schools for the children of outcasts, under the title of &quot;Schools for the Destitute,&quot; so they were among the pioneers of our Mothers&apos; Meetings. These in the aggregate now number 71, with no less than 3,000 regular attendants. As respects Westminster alone, under the verv shadow of the venerable uabbey, such meetings are held in five Ragged Schools with an attendance of upwards of 400 poor women. As we have visited all these meetings, we can testify to their value, social and spiritual, many facts proving that hearts once callous through sin and misery, have, through the power of the Spirit, been softened by the story of the Cross. But we have on so many occasions referred to Mothers&apos; Meetings at large, that we now propose to restrict ourselves to the notice of kindred gatherings which have received far less attention than they deserve-we allude to FATHERS&apos; MEETINGS. Of these there are two in Westminster; they are attached to Queen Square and Perkins Rents Ragged Schools. They are both of some standing; and, though they differ in details, they are both equally well managed, and therefore equally successful. The oldest, that held in QUFEN SQUARE, was established as far back as the year 18f53. It was commenced in the first Ragged School opened in WVestmiiister, an old stable in Ncw Pyc Street hlaving been adapted for school purposes. The Fathers&apos; Mfeeting was instituted, under the auspices of Mr. Robert Baxter, who kindly defrayed all the expenses, by Mr. Allen, a most earnest Scripture reader, whose namc is still fragrant in the alleys and dens of the Devil&apos;s Acre. The place was soon found to be far too small for the numbers in weekly attendance; on more than one occasion, indeed, we found above 200 men present, all of the lowest type socially and morally. Hence in 1l8.;5, in resp)ownse 1) to a modern cry of &quot; Rehoboth,&quot; Mr. Baxter granted the use of a Mission HlIl in Queen Square, rent free, and has continued this benefit up to the present time. The object of this meeting, though primarily religious, is also temporal ; for the managers have not forgotten that men have bodies as well as souls. In this, indeed, they only imitate their Divine Master, who, if he preached the Gospel in a way no one has over preached it, did not forget to feed the hungry and to heal the sick. IBy this wise combination of the secular with the religious, these mectings were a success from the very outset. Nothing can b)e Worse than to kee) men in &quot; leading strings ;&quot; and many a plan for the social reclamation of the poor has failed simply because all was (lone for them, instead of teaching the duty of self-help and self-managemnent. This, happily, is not the case with Queen Square Fathers&apos; Meetings, for most wisely they were from the very outset permitted to manage their own affairs, the wealthier promoters only giving sympathy or advice. The committee is therefore selected hy the members; and, on the whole, the selection has been most judicious, steady workers rather than mere talkers carrying off most votes. Since the commencement of this and the Mothers&apos; Club, about 1,600 of both sexes bave been aided in sickness; and above 200 have had their funeral expenses defrayed. The abler members visit and pray with their sick fellow--members, and convey to them the sick allowance. As every claim is settled at the close of the year, the Society is simply a yearly one, and helnce no futuro liability is entailed. Thle fathers meet every Wednesday evening at eight o&apos;clock p.1., to transact the necessary business. At every meeting the word of God is read, and suitable addresses are given. The followving are some of the rules which were adopted at a general meeting of the members in November, 1871 ; which, as the result of above twenty years&apos; experience, we give as a guide to any of our friends who may be led to establish similar meetings:&quot;Any person wishing to become a member, must pay 2d. per week towards the sick, Is. Gd. entrance fee on entering, and 2d. for rules and card. No member will be free until he has paid his contributions, viz., 1s. 6d. entrance, 2d. per week from the commencement of the year, and 1s. each death. This society shall be governed by a committee of twelve members, whose duty vill be to meet every Wednesday evening at a quarter before 8 o&apos;clock, to admit new members, and to receive applications from the sick, and also to report the state of the sick during the past week, and take their weekly allowanec of sick pay. The contributions shall bc paid regularly every WVednesday evening, fromt 7 till 9 ; any member neglecting to do so, and by falling sick, as a de(mlenter lie shall wait as many weeks as lie is a defaulter, beore lhe canl declare on the futnds alter his payments are made. Any member falling sick shall give notice in writing to the secretary, together with a doctor&apos;s cect ificate, and if eligible sliall receive the allowance on thlat day week, viz.: Ss. per week for four weeks, and 4s. per week. for eight weeks (luring the year, it&apos; required ; the mioney to be paid by one of&apos; the committee, wlho shall, take a receipt for the same. Such payment to commence from the day of receiving the doctor&apos;s certificate, the coImmittee beinig satisfied such illness is genuine, and not brought on b)v drunkenniiess or vice. That every sick miember slhall keep a slip of paper on whlicll the visiting committee shall write their names and date of each visit. No sick member to be from homel after (; o&apos;clock p.m. fronm the &apos;21st September to the 25thi Mareh, or after 9 o&apos;clock p.n. froin the 25thl March to the 21st September, or his iiamie Will he evase&apos;d. Tihat 11 personi can be admitted under eighteen or above fifty years of&apos; age, subject to the discretion of the committee, or livinig more thlan two miles from the place of meeting. The comnmittee shall select onc of thleir number to act as secretary folr the time being, whose duty it shall be to make all entries in thle b)ookR. Tle name and a(ldress and nlumber of every member, to be entered in a book at the commencement of every year. Any member leaving the town or the district, must give notice to the secretary, and one week&apos;s notice must be given to the secretary before he call receive the amount due to him on his card, and any member so removing, but still wishing to remain in the society, may do so, but should lie fall sick, any expense incurred in paying the sick money shall be paid by the sick member. At the death of a free member, the wife or relatives of the said member shall receive the advantage of ?8; that is to say, the cominitteo shall see thatt a respectable funeral shall be, gi&apos;en, and after the cxp)cnses are 1)aid, the wifo or relatives shall receive the remainder of the ?8. Any one can have his owvn undertaker, and the undertaker&apos;s bill will be paid on the following Wednesday, after being presented to the committee. All notices to be directed to the secretary, within. two days of the death of a member, marked outside &quot; Notice of D)eath.&quot; All members shall pay a contribution of Is. at the death of a member, for which three weeks will be allowed to pay it in from the date of the notice being given. Any member neglecting any of these rules, or coming to the meeting intoxicated, or using obscene language when at the meeting, shall be subject to a fine of 3d. for each offence.&quot; The next meeting of male adults to which we propose to refer is equally valuable both socially and religiously. It is known as the &apos;Westminster &apos;Working Men&apos;s Club and Reading Rooms, and is held in connection with the One Tun Ragged School in Old Pye Street. It is open every evening, Sundavs included, from 6 till half-past 10-on Sundays till 10, and oln Saturdays till a quarter to 12; subscription one halfpeinny ler week. Founded in 1860 by Miss Adeline Cooper, the building was enlarged in 1861, and again in 1863, and this club was remnoved to commodious premises, which were erected for the l)llrpose, in 18(;6. In addition to a large, cheerful reading room, the following social operations are carried on most successfully:-A Penlny Banik, open three times a week either for payments or withdrawals. Deposits during the year, ?42) 22s. 11(d.; withdrawn, ?32) 11s. 6d. A Labonr Loan Society, enrolled according to Act of Parliament, meets every &apos;Wednesday evening from 8 to 10. There are fiftyone Jflml)ers. Amount of capital standing to members&apos; accounts, ?190 16s. 101d. ; amount of paid-up shares withdrawn by members, ?197 s16. lI0d.; loans granted at ; per cent., ?214 5s.; interest added to members&apos; stock, 10 poer cent. ; in treasurer&apos;s bands ?47. A Tempnerar&apos;e Commwittec meet every &apos;Monday evening. The Public Temnperance meetings are held on alternate Tuesdays. One hundred alnd eighty-two pledges have been taken during the year. A Barrowt Cltb is conducted onl Monday evening. A barrowv, price 55s., is supplied to a member, who pays Is. a week for the use of it, and at the end of fifty-five weeks it becomes his own property. Seven barrows were supplied last year-making eighty-two barrows supplied to members since the formation of the Society in 18632. A Burial Society (numbers, thirty-three) meets every 3Monday evening. Voluntary subscriptions Wd. a week. This small weekly payment entitles the relatives of a deceased member to the sum of ?4 towards the funeral expenses, and is intended to discourage &quot;friendly meetings,&quot; which, being held at public-houses, generally lead to excesses of various kinds. ?12 were paid by this little Burial Society-?4 to the relatives of each deceased member. In connection with this society, we regret to record the death of a young member, &quot;the only son of his mother, who is a widow.&quot; During his illness his great desire was to have the Scriptures read to him. His last intelligible words were, &quot;1 Kiss me, mother-I am going-Jesus is waiting for me.&quot; A Lending Library numbers nearly 431 volumes. 207 books have been lent out during the year. The charge of one penny entitles a member to keep a book a fortnight-this money is expended in repairs, and also in new books. The Clab Library numbers over 1,200 volumes for the sole use of members of the Club. Nor are the spiritual needs of the members forgotten. Thus, a Bible Class, conducted by General Alexander, is much enjoyed by those who attend. It is free to all, and a side door is op)cn from a quarter before eight to ten minutes past. The attendance averages from thirty to forty. A Sunday ELrening ,Serriee andl Mid-day WVedne8(lay Prayer Meeting are also attended by most attentive audiences. As we have watched these Fathers&apos; Meetings from the outst, we gladly testify that, next to those Ragged Schools of which they were offshoots, nothing has done more to civilise a miserable district long known by the terrible name of the &quot; Devil&apos;s Acre.&quot; Latterly this locality has much improved, for Victoria Street and the MNetropolitan Railway, which run through the very heart of this district, by pulling down many alleys have driven away those burglars and coiners by which it was tenanted. Still, if less criminal, there is yet a large poor or vicious population-the &quot;d Lodging Houses for Travellers,&quot; in Old Pye Street, contributing more than their quota to the sin and misery which are still born and bred there. It is for classes like these-or rather for that portion which earnestly desires to quit this &quot; Slough of l)espond&quot;-that the Queen Square fllld One Tun Men&apos;s Meetings were devised. That their past usefulness may be but as a foreshadow of their future success, is our earnest prayer. Nor can we doubt that, with the common sense shown in the various plalnls employed, and the blessing, of the Most Itigh on the combined efforts, that they will long continue a course which, for prc.c)dt alnd permatiexit restilts, has had few palrallels.\n",
    "''')"
   ]
  },
  {
   "cell_type": "code",
   "execution_count": 4,
   "metadata": {
    "collapsed": false,
    "scrolled": true
   },
   "outputs": [
    {
     "name": "stdout",
     "output_type": "stream",
     "text": [
      "332995\n",
      "1125\n"
     ]
    }
   ],
   "source": [
    "kjb_tokens = kjb.token_sequence()\n",
    "bpo_tokens = bpo.token_sequence()\n",
    "\n",
    "print(len(kjb_tokens))\n",
    "print(len(bpo_tokens))"
   ]
  },
  {
   "cell_type": "code",
   "execution_count": 5,
   "metadata": {
    "collapsed": false
   },
   "outputs": [
    {
     "name": "stdout",
     "output_type": "stream",
     "text": [
      "[Match(a=15, b=35, size=1), Match(a=26, b=36, size=1), Match(a=31, b=524, size=1), Match(a=32, b=548, size=1), Match(a=56, b=593, size=1), Match(a=334, b=607, size=1), Match(a=532, b=609, size=1), Match(a=556, b=620, size=1), Match(a=590, b=634, size=1), Match(a=1034, b=638, size=1), Match(a=10231, b=655, size=1), Match(a=12408, b=671, size=2), Match(a=12614, b=725, size=1), Match(a=12646, b=796, size=1), Match(a=14442, b=852, size=1), Match(a=19547, b=863, size=1), Match(a=39371, b=865, size=1), Match(a=121339, b=871, size=2), Match(a=121504, b=884, size=1), Match(a=121617, b=890, size=1), Match(a=121652, b=905, size=1), Match(a=122017, b=917, size=1), Match(a=128116, b=933, size=1), Match(a=211908, b=934, size=2), Match(a=279088, b=938, size=3), Match(a=279404, b=950, size=1), Match(a=286612, b=951, size=2), Match(a=286632, b=1059, size=1), Match(a=286688, b=1093, size=1), Match(a=287309, b=1105, size=1), Match(a=289080, b=1117, size=1), Match(a=331627, b=1119, size=1), Match(a=332995, b=1125, size=0)]\n",
      "CPU times: user 1.18 s, sys: 5.01 ms, total: 1.18 s\n",
      "Wall time: 1.18 s\n"
     ]
    }
   ],
   "source": [
    "%time print(list(kjb.match(bpo)))"
   ]
  },
  {
   "cell_type": "code",
   "execution_count": null,
   "metadata": {
    "collapsed": true
   },
   "outputs": [],
   "source": []
  }
 ],
 "metadata": {
  "kernelspec": {
   "display_name": "Python 3",
   "language": "python",
   "name": "python3"
  },
  "language_info": {
   "codemirror_mode": {
    "name": "ipython",
    "version": 3
   },
   "file_extension": ".py",
   "mimetype": "text/x-python",
   "name": "python",
   "nbconvert_exporter": "python",
   "pygments_lexer": "ipython3",
   "version": "3.5.2"
  }
 },
 "nbformat": 4,
 "nbformat_minor": 1
}
