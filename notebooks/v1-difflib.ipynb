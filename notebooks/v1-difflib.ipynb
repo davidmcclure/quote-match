{
 "cells": [
  {
   "cell_type": "code",
   "execution_count": 1,
   "metadata": {
    "collapsed": true
   },
   "outputs": [],
   "source": [
    "import re\n",
    "\n",
    "def tokenize(text: str):\n",
    "    return re.findall('[a-z]+', text.lower())"
   ]
  },
  {
   "cell_type": "code",
   "execution_count": 2,
   "metadata": {
    "collapsed": true
   },
   "outputs": [],
   "source": [
    "with open('data/pg284.txt') as fh:\n",
    "    hom = fh.read()\n",
    "\n",
    "hom_tokens = tokenize(hom)"
   ]
  },
  {
   "cell_type": "code",
   "execution_count": 3,
   "metadata": {
    "collapsed": true
   },
   "outputs": [],
   "source": [
    "query = '''\n",
    "\"From everything--from money, from poverty, from ease and anxiety, from\n",
    "all the material accidents. To keep a kind of republic of the\n",
    "spirit--that's what I call success.\"\n",
    "'''\n",
    "\n",
    "query_tokens = tokenize(query)"
   ]
  },
  {
   "cell_type": "code",
   "execution_count": 4,
   "metadata": {
    "collapsed": false
   },
   "outputs": [],
   "source": [
    "from difflib import SequenceMatcher\n",
    "\n",
    "matcher = SequenceMatcher(a=hom_tokens, b=query_tokens)"
   ]
  },
  {
   "cell_type": "code",
   "execution_count": 9,
   "metadata": {
    "collapsed": false
   },
   "outputs": [
    {
     "data": {
      "text/plain": [
       "[Match(a=26480, b=0, size=30), Match(a=136823, b=30, size=0)]"
      ]
     },
     "execution_count": 9,
     "metadata": {},
     "output_type": "execute_result"
    }
   ],
   "source": [
    "matcher.get_matching_blocks()"
   ]
  },
  {
   "cell_type": "code",
   "execution_count": 10,
   "metadata": {
    "collapsed": false
   },
   "outputs": [
    {
     "name": "stdout",
     "output_type": "stream",
     "text": [
      "['from', 'everything', 'from', 'money', 'from', 'poverty', 'from', 'ease', 'and', 'anxiety', 'from', 'all', 'the', 'material', 'accidents', 'to', 'keep', 'a', 'kind', 'of', 'republic', 'of', 'the', 'spirit', 'that', 's', 'what', 'i', 'call', 'success']\n"
     ]
    }
   ],
   "source": [
    "print(hom_tokens[26480:26480+30])"
   ]
  },
  {
   "cell_type": "code",
   "execution_count": 30,
   "metadata": {
    "collapsed": true
   },
   "outputs": [],
   "source": [
    "def print_matches(subject, query, min_size=5):\n",
    "    \n",
    "    s_tokens = tokenize(subject)\n",
    "    q_tokens = tokenize(query)\n",
    "    \n",
    "    matcher = SequenceMatcher(a=s_tokens, b=q_tokens)\n",
    "    \n",
    "    for m in matcher.get_matching_blocks():\n",
    "        if m.size > min_size:\n",
    "            print(s_tokens[m.a:m.a+m.size])"
   ]
  },
  {
   "cell_type": "markdown",
   "metadata": {},
   "source": [
    "Quotes from _House of Mirth_, laced into excerpts from _Howard's End_."
   ]
  },
  {
   "cell_type": "code",
   "execution_count": 39,
   "metadata": {
    "collapsed": true
   },
   "outputs": [],
   "source": [
    "query = '''\n",
    "It was a unique education for the little girls.  The\n",
    "haughty nephew would be at Wickham Place one day, bringing\n",
    "with him an even haughtier wife, both convinced that Germany\n",
    "was appointed by God to govern the world.  Aunt Juley would\n",
    "come the next day, convinced that Great Britain had been\n",
    "appointed to the same post by the same authority.  Were both\n",
    "these loud-voiced parties right?  On one occasion they had\n",
    "met, and Margaret with clasped hands had implored them to\n",
    "argue the subject out in her presence.  Whereat they\n",
    "blushed, and began to talk about the weather.  \"Papa\" she\n",
    "cried--she was a most offensive child--\"why will they not\n",
    "discuss this most clear question?\"  Her father, surveying\n",
    "the parties grimly, replied that he did not know.  Putting\n",
    "her head on one side, Margaret then remarked, \"To me one of\n",
    "two things is very clear; either God does not know his own\n",
    "mind about England and Germany, or else these do not know\n",
    "the mind of God.\" A hateful little girl, but at thirteen she\n",
    "had grasped a dilemma that most people travel through life\n",
    "without perceiving.  Her brain darted up and down; it grew\n",
    "pliant and strong.  Her conclusion was, that any human being\n",
    "lies nearer to the unseen than any organization, and from\n",
    "this she never varied.\n",
    "\n",
    "An impulse of curiosity made him turn out of his direct line to the door,\n",
    "and stroll past her. He knew that if she did not wish to be seen she\n",
    "would contrive to elude him; and it amused him to think of putting her\n",
    "skill to the test.\n",
    "\n",
    "Helen advanced along the same lines, though with a more\n",
    "irresponsible tread.  In character she resembled her sister,\n",
    "but she was pretty, and so apt to have a more amusing time.\n",
    "People gathered round her more readily, especially when they\n",
    "were new acquaintances, and she did enjoy a little homage\n",
    "very much.  When their father died and they ruled alone at\n",
    "Wickham Place, she often absorbed the whole of the company,\n",
    "while Margaret--both were tremendous talkers--fell flat.\n",
    "Neither sister bothered about this.  Helen never apologized\n",
    "afterwards, Margaret did not feel the slightest rancour.\n",
    "But looks have their influence upon character.  The sisters\n",
    "were alike as little girls, but at the time of the Wilcox\n",
    "episode their methods were beginning to diverge; the younger\n",
    "was rather apt to entice people, and, in enticing them, to\n",
    "be herself enticed; the elder went straight ahead, and\n",
    "accepted an occasional failure as part of the game.\n",
    "\n",
    "He ushered her into a slip of a hall hung with old prints. She noticed\n",
    "the letters and notes heaped on the table among his gloves and sticks;\n",
    "then she found herself in a small library, dark but cheerful, with its\n",
    "walls of books, a pleasantly faded Turkey rug, a littered desk and, as he\n",
    "had foretold, a tea-tray on a low table near the window. A breeze had\n",
    "sprung up, swaying inward the muslin curtains, and bringing a fresh scent\n",
    "of mignonette and petunias from the flower-box on the balcony.\n",
    "\n",
    "It will be generally admitted that Beethoven's Fifth\n",
    "Symphony is the most sublime noise that has ever penetrated\n",
    "into the ear of man.  All sorts and conditions are satisfied\n",
    "by it.  Whether you are like Mrs. Munt, and tap\n",
    "surreptitiously when the tunes come--of course, not so as to\n",
    "disturb the others--; or like Helen, who can see heroes and\n",
    "shipwrecks in the music's flood; or like Margaret, who can\n",
    "only see the music; or like Tibby, who is profoundly versed\n",
    "in counterpoint, and holds the full score open on his knee;\n",
    "or like their cousin, Fraulein Mosebach, who remembers all\n",
    "the time that Beethoven is \"echt Deutsch\"; or like Fraulein\n",
    "Mosebach's young man, who can remember nothing but Fraulein\n",
    "Mosebach: in any case, the passion of your life becomes more\n",
    "vivid, and you are bound to admit that such a noise is cheap\n",
    "at two shillings.  It is cheap, even if you hear it in the\n",
    "Queen's Hall, dreariest music-room in London, though not as\n",
    "dreary as the Free Trade Hall, Manchester; and even if you\n",
    "sit on the extreme left of that hall, so that the brass\n",
    "bumps at you before the rest of the orchestra arrives, it is\n",
    "still cheap.\n",
    "\n",
    "The woman, without answering, pushed her pail aside, and continued to\n",
    "stare as Miss Bart swept by with a murmur of silken linings. Lily felt\n",
    "herself flushing under the look. What did the creature suppose? Could one\n",
    "never do the simplest, the most harmless thing, without subjecting one's\n",
    "self to some odious conjecture? Half way down the next flight, she smiled\n",
    "to think that a char-woman's stare should so perturb her.  The poor thing\n",
    "was probably dazzled by such an unwonted apparition. But WERE such\n",
    "apparitions unwonted on Selden's stairs? Miss Bart was not familiar with\n",
    "the moral code of bachelors' flat-houses, and her colour rose again as it\n",
    "occurred to her that the woman's persistent gaze implied a groping among\n",
    "past associations. But she put aside the thought with a smile at her own\n",
    "fears, and hastened downward, wondering if she should find a cab short of\n",
    "Fifth Avenue.\n",
    "\n",
    "The train sped northward, under innumerable tunnels.  It\n",
    "was only an hour's journey, but Mrs. Munt had to raise and\n",
    "lower the window again and again.  She passed through the\n",
    "South Welwyn Tunnel, saw light for a moment, and entered the\n",
    "North Welwyn Tunnel, of tragic fame.  She traversed the\n",
    "immense viaduct, whose arches span untroubled meadows and\n",
    "the dreamy flow of Tewin Water.  She skirted the parks of\n",
    "politicians.  At times the Great North Road accompanied her,\n",
    "more suggestive of infinity than any railway, awakening,\n",
    "after a nap of a hundred years, to such life as is conferred\n",
    "by the stench of motor-cars, and to such culture as is\n",
    "implied by the advertisements of antibilious pills.  To\n",
    "history, to tragedy, to the past, to the future, Mrs. Munt\n",
    "remained equally indifferent; hers but to concentrate on the\n",
    "end of her journey, and to rescue poor Helen from this\n",
    "dreadful mess.\n",
    "'''"
   ]
  },
  {
   "cell_type": "code",
   "execution_count": 40,
   "metadata": {
    "collapsed": false
   },
   "outputs": [
    {
     "name": "stdout",
     "output_type": "stream",
     "text": [
      "['an', 'impulse', 'of', 'curiosity', 'made', 'him', 'turn', 'out', 'of', 'his', 'direct', 'line', 'to', 'the', 'door', 'and', 'stroll', 'past', 'her', 'he', 'knew', 'that', 'if', 'she', 'did', 'not', 'wish', 'to', 'be', 'seen', 'she', 'would', 'contrive', 'to', 'elude', 'him', 'and', 'it', 'amused', 'him', 'to', 'think', 'of', 'putting', 'her', 'skill', 'to', 'the', 'test']\n",
      "['he', 'ushered', 'her', 'into', 'a', 'slip', 'of', 'a', 'hall', 'hung', 'with', 'old', 'prints', 'she', 'noticed', 'the', 'letters', 'and', 'notes', 'heaped', 'on', 'the', 'table', 'among', 'his', 'gloves', 'and', 'sticks', 'then', 'she', 'found', 'herself', 'in', 'a', 'small', 'library', 'dark', 'but', 'cheerful', 'with', 'its', 'walls', 'of', 'books', 'a', 'pleasantly', 'faded', 'turkey', 'rug', 'a', 'littered', 'desk', 'and', 'as', 'he', 'had', 'foretold', 'a', 'tea', 'tray', 'on', 'a', 'low', 'table', 'near', 'the', 'window', 'a', 'breeze', 'had', 'sprung', 'up', 'swaying', 'inward', 'the', 'muslin', 'curtains', 'and', 'bringing', 'a', 'fresh', 'scent', 'of', 'mignonette', 'and', 'petunias', 'from', 'the', 'flower', 'box', 'on', 'the', 'balcony']\n",
      "['the', 'woman', 'without', 'answering', 'pushed', 'her', 'pail', 'aside', 'and', 'continued', 'to', 'stare', 'as', 'miss', 'bart', 'swept', 'by', 'with', 'a', 'murmur', 'of', 'silken', 'linings', 'lily', 'felt', 'herself', 'flushing', 'under', 'the', 'look', 'what', 'did', 'the', 'creature', 'suppose', 'could', 'one', 'never', 'do', 'the', 'simplest', 'the', 'most', 'harmless', 'thing', 'without', 'subjecting', 'one', 's', 'self', 'to', 'some', 'odious', 'conjecture', 'half', 'way', 'down', 'the', 'next', 'flight', 'she', 'smiled', 'to', 'think', 'that', 'a', 'char', 'woman', 's', 'stare', 'should', 'so', 'perturb', 'her', 'the', 'poor', 'thing', 'was', 'probably', 'dazzled', 'by', 'such', 'an', 'unwonted', 'apparition', 'but', 'were', 'such', 'apparitions', 'unwonted', 'on', 'selden', 's', 'stairs', 'miss', 'bart', 'was', 'not', 'familiar', 'with', 'the', 'moral', 'code', 'of', 'bachelors', 'flat', 'houses', 'and', 'her', 'colour', 'rose', 'again', 'as', 'it', 'occurred', 'to', 'her', 'that', 'the', 'woman', 's', 'persistent', 'gaze', 'implied', 'a', 'groping', 'among', 'past', 'associations', 'but', 'she', 'put', 'aside', 'the', 'thought', 'with', 'a', 'smile', 'at', 'her', 'own', 'fears', 'and', 'hastened', 'downward', 'wondering', 'if', 'she', 'should', 'find', 'a', 'cab', 'short', 'of', 'fifth', 'avenue']\n",
      "CPU times: user 435 ms, sys: 5.38 ms, total: 440 ms\n",
      "Wall time: 441 ms\n"
     ]
    }
   ],
   "source": [
    "%time print_matches(hom, query)"
   ]
  },
  {
   "cell_type": "markdown",
   "metadata": {},
   "source": [
    "So, say ~1s for each query -> subject match, 5M articles in BPO, 16 nodes on Sherlock:"
   ]
  },
  {
   "cell_type": "code",
   "execution_count": 42,
   "metadata": {
    "collapsed": false
   },
   "outputs": [
    {
     "data": {
      "text/plain": [
       "5.425347222222222"
      ]
     },
     "execution_count": 42,
     "metadata": {},
     "output_type": "execute_result"
    }
   ],
   "source": [
    "(5e6/60/60) / (16*16)"
   ]
  }
 ],
 "metadata": {
  "kernelspec": {
   "display_name": "Python 3",
   "language": "python",
   "name": "python3"
  },
  "language_info": {
   "codemirror_mode": {
    "name": "ipython",
    "version": 3
   },
   "file_extension": ".py",
   "mimetype": "text/x-python",
   "name": "python",
   "nbconvert_exporter": "python",
   "pygments_lexer": "ipython3",
   "version": "3.5.2"
  }
 },
 "nbformat": 4,
 "nbformat_minor": 1
}
